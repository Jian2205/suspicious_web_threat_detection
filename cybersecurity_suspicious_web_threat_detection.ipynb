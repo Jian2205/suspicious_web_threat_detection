{
 "cells": [
  {
   "cell_type": "markdown",
   "id": "2945688a-3316-4371-82ba-64aee39f0873",
   "metadata": {},
   "source": [
    "<h1 style=\"font-size:32px; color:Black;\">Cybersecurity Project: Suspicious Web Threat Interactions</h1>\n"
   ]
  },
  {
   "cell_type": "markdown",
   "id": "d8fe1c19-cb7e-418a-9117-f5009cdbeb36",
   "metadata": {},
   "source": [
    "<h1 style=\"font-size:32px; color:Black;\">1: Data import and basic overview</h1>\n"
   ]
  },
  {
   "cell_type": "code",
   "execution_count": 2,
   "id": "8a2e0315-4bd2-48ae-94b8-bcf6ff0063ef",
   "metadata": {},
   "outputs": [
    {
     "name": "stdout",
     "output_type": "stream",
     "text": [
      "<class 'pandas.core.frame.DataFrame'>\n",
      "RangeIndex: 282 entries, 0 to 281\n",
      "Data columns (total 16 columns):\n",
      " #   Column               Non-Null Count  Dtype \n",
      "---  ------               --------------  ----- \n",
      " 0   bytes_in             282 non-null    int64 \n",
      " 1   bytes_out            282 non-null    int64 \n",
      " 2   creation_time        282 non-null    object\n",
      " 3   end_time             282 non-null    object\n",
      " 4   src_ip               282 non-null    object\n",
      " 5   src_ip_country_code  282 non-null    object\n",
      " 6   protocol             282 non-null    object\n",
      " 7   response.code        282 non-null    int64 \n",
      " 8   dst_port             282 non-null    int64 \n",
      " 9   dst_ip               282 non-null    object\n",
      " 10  rule_names           282 non-null    object\n",
      " 11  observation_name     282 non-null    object\n",
      " 12  source.meta          282 non-null    object\n",
      " 13  source.name          282 non-null    object\n",
      " 14  time                 282 non-null    object\n",
      " 15  detection_types      282 non-null    object\n",
      "dtypes: int64(4), object(12)\n",
      "memory usage: 35.4+ KB\n"
     ]
    },
    {
     "data": {
      "text/html": [
       "<div>\n",
       "<style scoped>\n",
       "    .dataframe tbody tr th:only-of-type {\n",
       "        vertical-align: middle;\n",
       "    }\n",
       "\n",
       "    .dataframe tbody tr th {\n",
       "        vertical-align: top;\n",
       "    }\n",
       "\n",
       "    .dataframe thead th {\n",
       "        text-align: right;\n",
       "    }\n",
       "</style>\n",
       "<table border=\"1\" class=\"dataframe\">\n",
       "  <thead>\n",
       "    <tr style=\"text-align: right;\">\n",
       "      <th></th>\n",
       "      <th>bytes_in</th>\n",
       "      <th>bytes_out</th>\n",
       "      <th>creation_time</th>\n",
       "      <th>end_time</th>\n",
       "      <th>src_ip</th>\n",
       "      <th>src_ip_country_code</th>\n",
       "      <th>protocol</th>\n",
       "      <th>response.code</th>\n",
       "      <th>dst_port</th>\n",
       "      <th>dst_ip</th>\n",
       "      <th>rule_names</th>\n",
       "      <th>observation_name</th>\n",
       "      <th>source.meta</th>\n",
       "      <th>source.name</th>\n",
       "      <th>time</th>\n",
       "      <th>detection_types</th>\n",
       "    </tr>\n",
       "  </thead>\n",
       "  <tbody>\n",
       "    <tr>\n",
       "      <th>0</th>\n",
       "      <td>5602</td>\n",
       "      <td>12990</td>\n",
       "      <td>2024-04-25T23:00:00Z</td>\n",
       "      <td>2024-04-25T23:10:00Z</td>\n",
       "      <td>147.161.161.82</td>\n",
       "      <td>AE</td>\n",
       "      <td>HTTPS</td>\n",
       "      <td>200</td>\n",
       "      <td>443</td>\n",
       "      <td>10.138.69.97</td>\n",
       "      <td>Suspicious Web Traffic</td>\n",
       "      <td>Adversary Infrastructure Interaction</td>\n",
       "      <td>AWS_VPC_Flow</td>\n",
       "      <td>prod_webserver</td>\n",
       "      <td>2024-04-25T23:00:00Z</td>\n",
       "      <td>waf_rule</td>\n",
       "    </tr>\n",
       "    <tr>\n",
       "      <th>1</th>\n",
       "      <td>30912</td>\n",
       "      <td>18186</td>\n",
       "      <td>2024-04-25T23:00:00Z</td>\n",
       "      <td>2024-04-25T23:10:00Z</td>\n",
       "      <td>165.225.33.6</td>\n",
       "      <td>US</td>\n",
       "      <td>HTTPS</td>\n",
       "      <td>200</td>\n",
       "      <td>443</td>\n",
       "      <td>10.138.69.97</td>\n",
       "      <td>Suspicious Web Traffic</td>\n",
       "      <td>Adversary Infrastructure Interaction</td>\n",
       "      <td>AWS_VPC_Flow</td>\n",
       "      <td>prod_webserver</td>\n",
       "      <td>2024-04-25T23:00:00Z</td>\n",
       "      <td>waf_rule</td>\n",
       "    </tr>\n",
       "    <tr>\n",
       "      <th>2</th>\n",
       "      <td>28506</td>\n",
       "      <td>13468</td>\n",
       "      <td>2024-04-25T23:00:00Z</td>\n",
       "      <td>2024-04-25T23:10:00Z</td>\n",
       "      <td>165.225.212.255</td>\n",
       "      <td>CA</td>\n",
       "      <td>HTTPS</td>\n",
       "      <td>200</td>\n",
       "      <td>443</td>\n",
       "      <td>10.138.69.97</td>\n",
       "      <td>Suspicious Web Traffic</td>\n",
       "      <td>Adversary Infrastructure Interaction</td>\n",
       "      <td>AWS_VPC_Flow</td>\n",
       "      <td>prod_webserver</td>\n",
       "      <td>2024-04-25T23:00:00Z</td>\n",
       "      <td>waf_rule</td>\n",
       "    </tr>\n",
       "    <tr>\n",
       "      <th>3</th>\n",
       "      <td>30546</td>\n",
       "      <td>14278</td>\n",
       "      <td>2024-04-25T23:00:00Z</td>\n",
       "      <td>2024-04-25T23:10:00Z</td>\n",
       "      <td>136.226.64.114</td>\n",
       "      <td>US</td>\n",
       "      <td>HTTPS</td>\n",
       "      <td>200</td>\n",
       "      <td>443</td>\n",
       "      <td>10.138.69.97</td>\n",
       "      <td>Suspicious Web Traffic</td>\n",
       "      <td>Adversary Infrastructure Interaction</td>\n",
       "      <td>AWS_VPC_Flow</td>\n",
       "      <td>prod_webserver</td>\n",
       "      <td>2024-04-25T23:00:00Z</td>\n",
       "      <td>waf_rule</td>\n",
       "    </tr>\n",
       "    <tr>\n",
       "      <th>4</th>\n",
       "      <td>6526</td>\n",
       "      <td>13892</td>\n",
       "      <td>2024-04-25T23:00:00Z</td>\n",
       "      <td>2024-04-25T23:10:00Z</td>\n",
       "      <td>165.225.240.79</td>\n",
       "      <td>NL</td>\n",
       "      <td>HTTPS</td>\n",
       "      <td>200</td>\n",
       "      <td>443</td>\n",
       "      <td>10.138.69.97</td>\n",
       "      <td>Suspicious Web Traffic</td>\n",
       "      <td>Adversary Infrastructure Interaction</td>\n",
       "      <td>AWS_VPC_Flow</td>\n",
       "      <td>prod_webserver</td>\n",
       "      <td>2024-04-25T23:00:00Z</td>\n",
       "      <td>waf_rule</td>\n",
       "    </tr>\n",
       "  </tbody>\n",
       "</table>\n",
       "</div>"
      ],
      "text/plain": [
       "   bytes_in  bytes_out         creation_time              end_time  \\\n",
       "0      5602      12990  2024-04-25T23:00:00Z  2024-04-25T23:10:00Z   \n",
       "1     30912      18186  2024-04-25T23:00:00Z  2024-04-25T23:10:00Z   \n",
       "2     28506      13468  2024-04-25T23:00:00Z  2024-04-25T23:10:00Z   \n",
       "3     30546      14278  2024-04-25T23:00:00Z  2024-04-25T23:10:00Z   \n",
       "4      6526      13892  2024-04-25T23:00:00Z  2024-04-25T23:10:00Z   \n",
       "\n",
       "            src_ip src_ip_country_code protocol  response.code  dst_port  \\\n",
       "0   147.161.161.82                  AE    HTTPS            200       443   \n",
       "1     165.225.33.6                  US    HTTPS            200       443   \n",
       "2  165.225.212.255                  CA    HTTPS            200       443   \n",
       "3   136.226.64.114                  US    HTTPS            200       443   \n",
       "4   165.225.240.79                  NL    HTTPS            200       443   \n",
       "\n",
       "         dst_ip              rule_names                      observation_name  \\\n",
       "0  10.138.69.97  Suspicious Web Traffic  Adversary Infrastructure Interaction   \n",
       "1  10.138.69.97  Suspicious Web Traffic  Adversary Infrastructure Interaction   \n",
       "2  10.138.69.97  Suspicious Web Traffic  Adversary Infrastructure Interaction   \n",
       "3  10.138.69.97  Suspicious Web Traffic  Adversary Infrastructure Interaction   \n",
       "4  10.138.69.97  Suspicious Web Traffic  Adversary Infrastructure Interaction   \n",
       "\n",
       "    source.meta     source.name                  time detection_types  \n",
       "0  AWS_VPC_Flow  prod_webserver  2024-04-25T23:00:00Z        waf_rule  \n",
       "1  AWS_VPC_Flow  prod_webserver  2024-04-25T23:00:00Z        waf_rule  \n",
       "2  AWS_VPC_Flow  prod_webserver  2024-04-25T23:00:00Z        waf_rule  \n",
       "3  AWS_VPC_Flow  prod_webserver  2024-04-25T23:00:00Z        waf_rule  \n",
       "4  AWS_VPC_Flow  prod_webserver  2024-04-25T23:00:00Z        waf_rule  "
      ]
     },
     "execution_count": 2,
     "metadata": {},
     "output_type": "execute_result"
    }
   ],
   "source": [
    "import pandas as pd\n",
    "import matplotlib.pyplot as plt\n",
    "import seaborn as sns\n",
    "from sklearn.ensemble import IsolationForest\n",
    "\n",
    "\n",
    "#Load dataset\n",
    "df = pd.read_csv('CloudWatch_Traffic_Web_Attack.csv')\n",
    "\n",
    "#view basic information\n",
    "df.info()\n",
    "df.head()"
   ]
  },
  {
   "cell_type": "markdown",
   "id": "9bc941fb-b7db-4c21-9f62-301ce16221c0",
   "metadata": {},
   "source": [
    "<h1 style=\"font-size:32px; color:Black;\">2: Data Preprocessing</h1>"
   ]
  },
  {
   "cell_type": "markdown",
   "id": "c93695cd-4a34-4034-98dd-a27a2b22b1ad",
   "metadata": {},
   "source": [
    "Handle missing values, outliers, and data inconsistencies"
   ]
  },
  {
   "cell_type": "code",
   "execution_count": 6,
   "id": "4dd58907-cc88-4b6a-9ea4-dc0d5c63ae9b",
   "metadata": {},
   "outputs": [
    {
     "name": "stdout",
     "output_type": "stream",
     "text": [
      "bytes_in               0\n",
      "bytes_out              0\n",
      "creation_time          0\n",
      "end_time               0\n",
      "src_ip                 0\n",
      "src_ip_country_code    0\n",
      "protocol               0\n",
      "response.code          0\n",
      "dst_port               0\n",
      "dst_ip                 0\n",
      "rule_names             0\n",
      "observation_name       0\n",
      "source.meta            0\n",
      "source.name            0\n",
      "time                   0\n",
      "detection_types        0\n",
      "dtype: int64\n"
     ]
    }
   ],
   "source": [
    "#Check for missing values\n",
    "missing_values = df.isnull().sum()\n",
    "print(missing_values)"
   ]
  },
  {
   "cell_type": "code",
   "execution_count": 26,
   "id": "9bae589c-8f56-4c59-a288-ce0f2acfe064",
   "metadata": {},
   "outputs": [
    {
     "name": "stderr",
     "output_type": "stream",
     "text": [
      "C:\\Users\\jianl\\AppData\\Local\\Temp\\ipykernel_7776\\1025413937.py:2: FutureWarning: A value is trying to be set on a copy of a DataFrame or Series through chained assignment using an inplace method.\n",
      "The behavior will change in pandas 3.0. This inplace method will never work because the intermediate object on which we are setting values always behaves as a copy.\n",
      "\n",
      "For example, when doing 'df[col].method(value, inplace=True)', try using 'df.method({col: value}, inplace=True)' or df[col] = df[col].method(value) instead, to perform the operation inplace on the original object.\n",
      "\n",
      "\n",
      "  df['bytes_in'].fillna(df['bytes_in'].median(), inplace=True)\n"
     ]
    }
   ],
   "source": [
    "#Fill or drop missing values as needed\n",
    "df['bytes_in'].fillna(df['bytes_in'].median(), inplace=True)\n",
    "df.dropna(subset=['src_ip', 'dst_ip'], inplace = True)\n",
    "\n",
    "#Convert columns to appropriate datatypes\n",
    "df['creation_time'] = pd.to_datetime(df['creation_time'])\n",
    "df['end_time'] = pd.to_datetime(df['end_time'])"
   ]
  },
  {
   "cell_type": "markdown",
   "id": "158e2725-7633-4661-93fb-a675be539e62",
   "metadata": {},
   "source": [
    "<h1 style=\"font-size:32px; color:Black;\">Step 3: Exploratory Data Analysis(EDA)</h1>\n"
   ]
  },
  {
   "cell_type": "markdown",
   "id": "8705d48b-2a33-4810-bcf6-595370d3f903",
   "metadata": {},
   "source": [
    "Analyze Traffic Patterns Based on bytes_in and bytes_out"
   ]
  },
  {
   "cell_type": "code",
   "execution_count": 9,
   "id": "dde9d0f8-1e2a-4915-a605-8c0d7e940420",
   "metadata": {},
   "outputs": [
    {
     "data": {
      "image/png": "[encoded data removed]",
      "text/plain": [
       "<Figure size 1200x600 with 1 Axes>"
      ]
     },
     "metadata": {},
     "output_type": "display_data"
    }
   ],
   "source": [
    "#Distribution of bytes in and bytes out\n",
    "plt.figure(figsize=(12, 6))\n",
    "sns.histplot(df['bytes_in'], bins=50, color='blue', kde=True, label='Bytes In')\n",
    "sns.histplot(df['bytes_out'], bins=50, color='red', kde=True, label='Bytes Out')\n",
    "plt.legend()\n",
    "plt.title('Distribution of Bytes In and Bytes Out')\n",
    "plt.show()"
   ]
  },
  {
   "cell_type": "markdown",
   "id": "107428bd-cc13-40b8-a07c-bf2ad25ab147",
   "metadata": {},
   "source": [
    "Count of Protocols Used"
   ]
  },
  {
   "cell_type": "code",
   "execution_count": 10,
   "id": "a613d503-c662-46e7-9e5b-bec8d74ef2c8",
   "metadata": {},
   "outputs": [
    {
     "name": "stderr",
     "output_type": "stream",
     "text": [
      "C:\\Users\\jianl\\AppData\\Local\\Temp\\ipykernel_7776\\4259760943.py:2: FutureWarning: \n",
      "\n",
      "Passing `palette` without assigning `hue` is deprecated and will be removed in v0.14.0. Assign the `x` variable to `hue` and set `legend=False` for the same effect.\n",
      "\n",
      "  sns.countplot(x='protocol', data=df, palette='viridis')\n"
     ]
    },
    {
     "data": {
      "image/png": "[encoded data removed]",
      "text/plain": [
       "<Figure size 1000x500 with 1 Axes>"
      ]
     },
     "metadata": {},
     "output_type": "display_data"
    }
   ],
   "source": [
    "plt.figure(figsize=(10, 5))\n",
    "sns.countplot(x='protocol', data=df, palette='viridis')\n",
    "plt.title('Protocol Count')\n",
    "plt.xticks(rotation=45)\n",
    "plt.show()\n",
    "\n",
    "#Document for report\n",
    "#“All observed traffic in the dataset uses HTTPS, indicating secure client-server communication. No unencrypted or unusual protocols were detected.”"
   ]
  },
  {
   "cell_type": "markdown",
   "id": "891f1b4f-b816-4518-9d24-d1f460d1d5a8",
   "metadata": {},
   "source": [
    "<h1 style=\"font-size:32px; color:Black;\">Step 4: Feature Engineering</h1>\n"
   ]
  },
  {
   "cell_type": "markdown",
   "id": "9d46830f-32c6-4f26-adad-5d8abf37fd42",
   "metadata": {},
   "source": [
    "Extract useful features, like duration and average packet size, to aid in analysis"
   ]
  },
  {
   "cell_type": "code",
   "execution_count": 12,
   "id": "de0aa015-86ba-49d9-afa9-2d97b2161fed",
   "metadata": {},
   "outputs": [
    {
     "name": "stdout",
     "output_type": "stream",
     "text": [
      "   session_duration  avg_packet_size\n",
      "0             600.0        30.986667\n",
      "1             600.0        81.830000\n",
      "2             600.0        69.956667\n",
      "3             600.0        74.706667\n",
      "4             600.0        34.030000\n"
     ]
    }
   ],
   "source": [
    "#Duration of the session in seconds\n",
    "df['session_duration'] = (df['end_time'] - df['creation_time']).dt.total_seconds()\n",
    "\n",
    "#Average packet size\n",
    "df['avg_packet_size'] = (df['bytes_in'] + df['bytes_out'])/df['session_duration']\n",
    "\n",
    "print(df[['session_duration', 'avg_packet_size']].head())"
   ]
  },
  {
   "cell_type": "markdown",
   "id": "3c596fa7-8d8c-4f4c-82b4-347f27e562a1",
   "metadata": {},
   "source": [
    "<h1 style=\"font-size:32px; color:Black;\">Step 5: Data Visualization</h1>\n"
   ]
  },
  {
   "cell_type": "markdown",
   "id": "b54addb8-1d39-4279-8938-3ee32e488d39",
   "metadata": {},
   "source": [
    "Country-based Interaction Analysis"
   ]
  },
  {
   "cell_type": "code",
   "execution_count": 13,
   "id": "864dbe69-44a8-4186-bce0-372aebd2c5f3",
   "metadata": {},
   "outputs": [
    {
     "data": {
      "image/png": "[encoded data removed]",
      "text/plain": [
       "<Figure size 1500x800 with 1 Axes>"
      ]
     },
     "metadata": {},
     "output_type": "display_data"
    }
   ],
   "source": [
    "plt.figure(figsize=(15, 8))\n",
    "sns.countplot(y='src_ip_country_code', data=df, order=df['src_ip_country_code'].value_counts().index)\n",
    "plt.title('Interaction count by Source IP Country Code')\n",
    "plt.show()"
   ]
  },
  {
   "cell_type": "markdown",
   "id": "58329402-d42a-43a7-a070-d6953a959fcc",
   "metadata": {},
   "source": [
    "Suspicious Activities Based on Ports"
   ]
  },
  {
   "cell_type": "code",
   "execution_count": 16,
   "id": "82d158c0-8861-47ed-a674-add3edb0f911",
   "metadata": {},
   "outputs": [
    {
     "data": {
      "image/png": "[encoded data removed]",
      "text/plain": [
       "<Figure size 1200x600 with 1 Axes>"
      ]
     },
     "metadata": {},
     "output_type": "display_data"
    }
   ],
   "source": [
    "plt.figure(figsize=(12, 6))\n",
    "sns.countplot(x='dst_port', data=df[df['detection_types']=='Suspicious'], palette='coolwarm')\n",
    "plt.title('Suspicious Activities Based on Destination Port')\n",
    "plt.xticks(rotation=45)\n",
    "plt.show()"
   ]
  },
  {
   "cell_type": "code",
   "execution_count": 15,
   "id": "073bb796-1551-4cb0-9835-8616fce5114a",
   "metadata": {},
   "outputs": [
    {
     "data": {
      "text/html": [
       "<div>\n",
       "<style scoped>\n",
       "    .dataframe tbody tr th:only-of-type {\n",
       "        vertical-align: middle;\n",
       "    }\n",
       "\n",
       "    .dataframe tbody tr th {\n",
       "        vertical-align: top;\n",
       "    }\n",
       "\n",
       "    .dataframe thead th {\n",
       "        text-align: right;\n",
       "    }\n",
       "</style>\n",
       "<table border=\"1\" class=\"dataframe\">\n",
       "  <thead>\n",
       "    <tr style=\"text-align: right;\">\n",
       "      <th></th>\n",
       "      <th>bytes_in</th>\n",
       "      <th>bytes_out</th>\n",
       "      <th>creation_time</th>\n",
       "      <th>end_time</th>\n",
       "      <th>src_ip</th>\n",
       "      <th>src_ip_country_code</th>\n",
       "      <th>protocol</th>\n",
       "      <th>response.code</th>\n",
       "      <th>dst_port</th>\n",
       "      <th>dst_ip</th>\n",
       "      <th>rule_names</th>\n",
       "      <th>observation_name</th>\n",
       "      <th>source.meta</th>\n",
       "      <th>source.name</th>\n",
       "      <th>time</th>\n",
       "      <th>detection_types</th>\n",
       "      <th>session_duration</th>\n",
       "      <th>avg_packet_size</th>\n",
       "    </tr>\n",
       "  </thead>\n",
       "  <tbody>\n",
       "  </tbody>\n",
       "</table>\n",
       "</div>"
      ],
      "text/plain": [
       "Empty DataFrame\n",
       "Columns: [bytes_in, bytes_out, creation_time, end_time, src_ip, src_ip_country_code, protocol, response.code, dst_port, dst_ip, rule_names, observation_name, source.meta, source.name, time, detection_types, session_duration, avg_packet_size]\n",
       "Index: []"
      ]
     },
     "execution_count": 15,
     "metadata": {},
     "output_type": "execute_result"
    }
   ],
   "source": [
    "df[df['detection_types'].str.lower() == 'suspicious']\n"
   ]
  },
  {
   "cell_type": "markdown",
   "id": "fecdad03-cc4b-4ff1-afdd-6685495bdbd6",
   "metadata": {},
   "source": [
    "<h1 style=\"font-size:32px; color:Black;\">Step 6: Modeling Anomaly Detection</h1>\n"
   ]
  },
  {
   "cell_type": "markdown",
   "id": "4bf28d89-1367-48e5-a3a9-f78165bad050",
   "metadata": {},
   "source": [
    "This step uses Isolation Forest, a common technique for detecting anomalies"
   ]
  },
  {
   "cell_type": "code",
   "execution_count": 18,
   "id": "6908fc68-55b7-44b0-98f2-83c75db512b0",
   "metadata": {},
   "outputs": [
    {
     "data": {
      "text/html": [
       "<div>\n",
       "<style scoped>\n",
       "    .dataframe tbody tr th:only-of-type {\n",
       "        vertical-align: middle;\n",
       "    }\n",
       "\n",
       "    .dataframe tbody tr th {\n",
       "        vertical-align: top;\n",
       "    }\n",
       "\n",
       "    .dataframe thead th {\n",
       "        text-align: right;\n",
       "    }\n",
       "</style>\n",
       "<table border=\"1\" class=\"dataframe\">\n",
       "  <thead>\n",
       "    <tr style=\"text-align: right;\">\n",
       "      <th></th>\n",
       "      <th>bytes_in</th>\n",
       "      <th>bytes_out</th>\n",
       "      <th>creation_time</th>\n",
       "      <th>end_time</th>\n",
       "      <th>src_ip</th>\n",
       "      <th>src_ip_country_code</th>\n",
       "      <th>protocol</th>\n",
       "      <th>response.code</th>\n",
       "      <th>dst_port</th>\n",
       "      <th>dst_ip</th>\n",
       "      <th>rule_names</th>\n",
       "      <th>observation_name</th>\n",
       "      <th>source.meta</th>\n",
       "      <th>source.name</th>\n",
       "      <th>time</th>\n",
       "      <th>detection_types</th>\n",
       "      <th>session_duration</th>\n",
       "      <th>avg_packet_size</th>\n",
       "      <th>anomaly</th>\n",
       "    </tr>\n",
       "  </thead>\n",
       "  <tbody>\n",
       "    <tr>\n",
       "      <th>36</th>\n",
       "      <td>4190330</td>\n",
       "      <td>283456</td>\n",
       "      <td>2024-04-25 23:30:00+00:00</td>\n",
       "      <td>2024-04-25 23:40:00+00:00</td>\n",
       "      <td>155.91.45.242</td>\n",
       "      <td>US</td>\n",
       "      <td>HTTPS</td>\n",
       "      <td>200</td>\n",
       "      <td>443</td>\n",
       "      <td>10.138.69.97</td>\n",
       "      <td>Suspicious Web Traffic</td>\n",
       "      <td>Adversary Infrastructure Interaction</td>\n",
       "      <td>AWS_VPC_Flow</td>\n",
       "      <td>prod_webserver</td>\n",
       "      <td>2024-04-25T23:30:00Z</td>\n",
       "      <td>waf_rule</td>\n",
       "      <td>600.0</td>\n",
       "      <td>7456.310000</td>\n",
       "      <td>Suspicious</td>\n",
       "    </tr>\n",
       "    <tr>\n",
       "      <th>87</th>\n",
       "      <td>1215594</td>\n",
       "      <td>64362</td>\n",
       "      <td>2024-04-26 00:30:00+00:00</td>\n",
       "      <td>2024-04-26 00:40:00+00:00</td>\n",
       "      <td>165.225.240.79</td>\n",
       "      <td>NL</td>\n",
       "      <td>HTTPS</td>\n",
       "      <td>200</td>\n",
       "      <td>443</td>\n",
       "      <td>10.138.69.97</td>\n",
       "      <td>Suspicious Web Traffic</td>\n",
       "      <td>Adversary Infrastructure Interaction</td>\n",
       "      <td>AWS_VPC_Flow</td>\n",
       "      <td>prod_webserver</td>\n",
       "      <td>2024-04-26T00:30:00Z</td>\n",
       "      <td>waf_rule</td>\n",
       "      <td>600.0</td>\n",
       "      <td>2133.260000</td>\n",
       "      <td>Suspicious</td>\n",
       "    </tr>\n",
       "    <tr>\n",
       "      <th>116</th>\n",
       "      <td>4827283</td>\n",
       "      <td>306181</td>\n",
       "      <td>2024-04-26 01:00:00+00:00</td>\n",
       "      <td>2024-04-26 01:10:00+00:00</td>\n",
       "      <td>155.91.45.242</td>\n",
       "      <td>US</td>\n",
       "      <td>HTTPS</td>\n",
       "      <td>200</td>\n",
       "      <td>443</td>\n",
       "      <td>10.138.69.97</td>\n",
       "      <td>Suspicious Web Traffic</td>\n",
       "      <td>Adversary Infrastructure Interaction</td>\n",
       "      <td>AWS_VPC_Flow</td>\n",
       "      <td>prod_webserver</td>\n",
       "      <td>2024-04-26T01:00:00Z</td>\n",
       "      <td>waf_rule</td>\n",
       "      <td>600.0</td>\n",
       "      <td>8555.773333</td>\n",
       "      <td>Suspicious</td>\n",
       "    </tr>\n",
       "    <tr>\n",
       "      <th>132</th>\n",
       "      <td>1889834</td>\n",
       "      <td>34306</td>\n",
       "      <td>2024-04-26 01:20:00+00:00</td>\n",
       "      <td>2024-04-26 01:30:00+00:00</td>\n",
       "      <td>165.225.240.79</td>\n",
       "      <td>NL</td>\n",
       "      <td>HTTPS</td>\n",
       "      <td>200</td>\n",
       "      <td>443</td>\n",
       "      <td>10.138.69.97</td>\n",
       "      <td>Suspicious Web Traffic</td>\n",
       "      <td>Adversary Infrastructure Interaction</td>\n",
       "      <td>AWS_VPC_Flow</td>\n",
       "      <td>prod_webserver</td>\n",
       "      <td>2024-04-26T01:20:00Z</td>\n",
       "      <td>waf_rule</td>\n",
       "      <td>600.0</td>\n",
       "      <td>3206.900000</td>\n",
       "      <td>Suspicious</td>\n",
       "    </tr>\n",
       "    <tr>\n",
       "      <th>153</th>\n",
       "      <td>4869181</td>\n",
       "      <td>301752</td>\n",
       "      <td>2024-04-26 01:40:00+00:00</td>\n",
       "      <td>2024-04-26 01:50:00+00:00</td>\n",
       "      <td>155.91.45.242</td>\n",
       "      <td>US</td>\n",
       "      <td>HTTPS</td>\n",
       "      <td>200</td>\n",
       "      <td>443</td>\n",
       "      <td>10.138.69.97</td>\n",
       "      <td>Suspicious Web Traffic</td>\n",
       "      <td>Adversary Infrastructure Interaction</td>\n",
       "      <td>AWS_VPC_Flow</td>\n",
       "      <td>prod_webserver</td>\n",
       "      <td>2024-04-26T01:40:00Z</td>\n",
       "      <td>waf_rule</td>\n",
       "      <td>600.0</td>\n",
       "      <td>8618.221667</td>\n",
       "      <td>Suspicious</td>\n",
       "    </tr>\n",
       "  </tbody>\n",
       "</table>\n",
       "</div>"
      ],
      "text/plain": [
       "     bytes_in  bytes_out             creation_time                  end_time  \\\n",
       "36    4190330     283456 2024-04-25 23:30:00+00:00 2024-04-25 23:40:00+00:00   \n",
       "87    1215594      64362 2024-04-26 00:30:00+00:00 2024-04-26 00:40:00+00:00   \n",
       "116   4827283     306181 2024-04-26 01:00:00+00:00 2024-04-26 01:10:00+00:00   \n",
       "132   1889834      34306 2024-04-26 01:20:00+00:00 2024-04-26 01:30:00+00:00   \n",
       "153   4869181     301752 2024-04-26 01:40:00+00:00 2024-04-26 01:50:00+00:00   \n",
       "\n",
       "             src_ip src_ip_country_code protocol  response.code  dst_port  \\\n",
       "36    155.91.45.242                  US    HTTPS            200       443   \n",
       "87   165.225.240.79                  NL    HTTPS            200       443   \n",
       "116   155.91.45.242                  US    HTTPS            200       443   \n",
       "132  165.225.240.79                  NL    HTTPS            200       443   \n",
       "153   155.91.45.242                  US    HTTPS            200       443   \n",
       "\n",
       "           dst_ip              rule_names  \\\n",
       "36   10.138.69.97  Suspicious Web Traffic   \n",
       "87   10.138.69.97  Suspicious Web Traffic   \n",
       "116  10.138.69.97  Suspicious Web Traffic   \n",
       "132  10.138.69.97  Suspicious Web Traffic   \n",
       "153  10.138.69.97  Suspicious Web Traffic   \n",
       "\n",
       "                         observation_name   source.meta     source.name  \\\n",
       "36   Adversary Infrastructure Interaction  AWS_VPC_Flow  prod_webserver   \n",
       "87   Adversary Infrastructure Interaction  AWS_VPC_Flow  prod_webserver   \n",
       "116  Adversary Infrastructure Interaction  AWS_VPC_Flow  prod_webserver   \n",
       "132  Adversary Infrastructure Interaction  AWS_VPC_Flow  prod_webserver   \n",
       "153  Adversary Infrastructure Interaction  AWS_VPC_Flow  prod_webserver   \n",
       "\n",
       "                     time detection_types  session_duration  avg_packet_size  \\\n",
       "36   2024-04-25T23:30:00Z        waf_rule             600.0      7456.310000   \n",
       "87   2024-04-26T00:30:00Z        waf_rule             600.0      2133.260000   \n",
       "116  2024-04-26T01:00:00Z        waf_rule             600.0      8555.773333   \n",
       "132  2024-04-26T01:20:00Z        waf_rule             600.0      3206.900000   \n",
       "153  2024-04-26T01:40:00Z        waf_rule             600.0      8618.221667   \n",
       "\n",
       "        anomaly  \n",
       "36   Suspicious  \n",
       "87   Suspicious  \n",
       "116  Suspicious  \n",
       "132  Suspicious  \n",
       "153  Suspicious  "
      ]
     },
     "metadata": {},
     "output_type": "display_data"
    }
   ],
   "source": [
    "#Selecting features for anomaly detection\n",
    "features = df[['bytes_in', 'bytes_out', 'session_duration', 'avg_packet_size']]\n",
    "\n",
    "#Initialize the model\n",
    "model = IsolationForest(contamination=0.05, random_state=42)\n",
    "\n",
    "#Fit and predict anomalies\n",
    "df['anomaly'] = model.fit_predict(features)\n",
    "df['anomaly'] = df['anomaly'].apply(lambda x: 'Suspicious' if x == -1 else 'Normal')\n",
    "\n",
    "display(df[df['anomaly'] == 'Suspicious'].head())\n"
   ]
  },
  {
   "cell_type": "code",
   "execution_count": 25,
   "id": "ceeecbf9-86e3-45f0-9690-fbb417b1a92e",
   "metadata": {},
   "outputs": [],
   "source": [
    "#Export suspicious records:\n",
    "df[df['anomaly'] == 'Suspicious'].to_csv('suspicious_sessions.csv', index=False)"
   ]
  },
  {
   "cell_type": "markdown",
   "id": "1ac2f7a6-178a-4a86-b8ca-4544c1e0a42b",
   "metadata": {},
   "source": [
    "<h1 style=\"font-size:32px; color:Black;\">Step 7:Evaluation</h1>\n"
   ]
  },
  {
   "cell_type": "markdown",
   "id": "1075bba8-6348-45b4-b789-52f2b70bbc1d",
   "metadata": {},
   "source": [
    "Evaluate the anomaly detection model by clicking its accuracy in identifying suspicious activities"
   ]
  },
  {
   "cell_type": "code",
   "execution_count": 20,
   "id": "203e3466-d9df-43da-bc67-ac2faa5ec735",
   "metadata": {},
   "outputs": [
    {
     "name": "stdout",
     "output_type": "stream",
     "text": [
      "anomaly\n",
      "Normal        267\n",
      "Suspicious     15\n",
      "Name: count, dtype: int64\n"
     ]
    },
    {
     "data": {
      "text/html": [
       "<div>\n",
       "<style scoped>\n",
       "    .dataframe tbody tr th:only-of-type {\n",
       "        vertical-align: middle;\n",
       "    }\n",
       "\n",
       "    .dataframe tbody tr th {\n",
       "        vertical-align: top;\n",
       "    }\n",
       "\n",
       "    .dataframe thead th {\n",
       "        text-align: right;\n",
       "    }\n",
       "</style>\n",
       "<table border=\"1\" class=\"dataframe\">\n",
       "  <thead>\n",
       "    <tr style=\"text-align: right;\">\n",
       "      <th></th>\n",
       "      <th>bytes_in</th>\n",
       "      <th>bytes_out</th>\n",
       "      <th>creation_time</th>\n",
       "      <th>end_time</th>\n",
       "      <th>src_ip</th>\n",
       "      <th>src_ip_country_code</th>\n",
       "      <th>protocol</th>\n",
       "      <th>response.code</th>\n",
       "      <th>dst_port</th>\n",
       "      <th>dst_ip</th>\n",
       "      <th>rule_names</th>\n",
       "      <th>observation_name</th>\n",
       "      <th>source.meta</th>\n",
       "      <th>source.name</th>\n",
       "      <th>time</th>\n",
       "      <th>detection_types</th>\n",
       "      <th>session_duration</th>\n",
       "      <th>avg_packet_size</th>\n",
       "      <th>anomaly</th>\n",
       "    </tr>\n",
       "  </thead>\n",
       "  <tbody>\n",
       "    <tr>\n",
       "      <th>36</th>\n",
       "      <td>4190330</td>\n",
       "      <td>283456</td>\n",
       "      <td>2024-04-25 23:30:00+00:00</td>\n",
       "      <td>2024-04-25 23:40:00+00:00</td>\n",
       "      <td>155.91.45.242</td>\n",
       "      <td>US</td>\n",
       "      <td>HTTPS</td>\n",
       "      <td>200</td>\n",
       "      <td>443</td>\n",
       "      <td>10.138.69.97</td>\n",
       "      <td>Suspicious Web Traffic</td>\n",
       "      <td>Adversary Infrastructure Interaction</td>\n",
       "      <td>AWS_VPC_Flow</td>\n",
       "      <td>prod_webserver</td>\n",
       "      <td>2024-04-25T23:30:00Z</td>\n",
       "      <td>waf_rule</td>\n",
       "      <td>600.0</td>\n",
       "      <td>7456.310000</td>\n",
       "      <td>Suspicious</td>\n",
       "    </tr>\n",
       "    <tr>\n",
       "      <th>87</th>\n",
       "      <td>1215594</td>\n",
       "      <td>64362</td>\n",
       "      <td>2024-04-26 00:30:00+00:00</td>\n",
       "      <td>2024-04-26 00:40:00+00:00</td>\n",
       "      <td>165.225.240.79</td>\n",
       "      <td>NL</td>\n",
       "      <td>HTTPS</td>\n",
       "      <td>200</td>\n",
       "      <td>443</td>\n",
       "      <td>10.138.69.97</td>\n",
       "      <td>Suspicious Web Traffic</td>\n",
       "      <td>Adversary Infrastructure Interaction</td>\n",
       "      <td>AWS_VPC_Flow</td>\n",
       "      <td>prod_webserver</td>\n",
       "      <td>2024-04-26T00:30:00Z</td>\n",
       "      <td>waf_rule</td>\n",
       "      <td>600.0</td>\n",
       "      <td>2133.260000</td>\n",
       "      <td>Suspicious</td>\n",
       "    </tr>\n",
       "    <tr>\n",
       "      <th>116</th>\n",
       "      <td>4827283</td>\n",
       "      <td>306181</td>\n",
       "      <td>2024-04-26 01:00:00+00:00</td>\n",
       "      <td>2024-04-26 01:10:00+00:00</td>\n",
       "      <td>155.91.45.242</td>\n",
       "      <td>US</td>\n",
       "      <td>HTTPS</td>\n",
       "      <td>200</td>\n",
       "      <td>443</td>\n",
       "      <td>10.138.69.97</td>\n",
       "      <td>Suspicious Web Traffic</td>\n",
       "      <td>Adversary Infrastructure Interaction</td>\n",
       "      <td>AWS_VPC_Flow</td>\n",
       "      <td>prod_webserver</td>\n",
       "      <td>2024-04-26T01:00:00Z</td>\n",
       "      <td>waf_rule</td>\n",
       "      <td>600.0</td>\n",
       "      <td>8555.773333</td>\n",
       "      <td>Suspicious</td>\n",
       "    </tr>\n",
       "    <tr>\n",
       "      <th>132</th>\n",
       "      <td>1889834</td>\n",
       "      <td>34306</td>\n",
       "      <td>2024-04-26 01:20:00+00:00</td>\n",
       "      <td>2024-04-26 01:30:00+00:00</td>\n",
       "      <td>165.225.240.79</td>\n",
       "      <td>NL</td>\n",
       "      <td>HTTPS</td>\n",
       "      <td>200</td>\n",
       "      <td>443</td>\n",
       "      <td>10.138.69.97</td>\n",
       "      <td>Suspicious Web Traffic</td>\n",
       "      <td>Adversary Infrastructure Interaction</td>\n",
       "      <td>AWS_VPC_Flow</td>\n",
       "      <td>prod_webserver</td>\n",
       "      <td>2024-04-26T01:20:00Z</td>\n",
       "      <td>waf_rule</td>\n",
       "      <td>600.0</td>\n",
       "      <td>3206.900000</td>\n",
       "      <td>Suspicious</td>\n",
       "    </tr>\n",
       "    <tr>\n",
       "      <th>153</th>\n",
       "      <td>4869181</td>\n",
       "      <td>301752</td>\n",
       "      <td>2024-04-26 01:40:00+00:00</td>\n",
       "      <td>2024-04-26 01:50:00+00:00</td>\n",
       "      <td>155.91.45.242</td>\n",
       "      <td>US</td>\n",
       "      <td>HTTPS</td>\n",
       "      <td>200</td>\n",
       "      <td>443</td>\n",
       "      <td>10.138.69.97</td>\n",
       "      <td>Suspicious Web Traffic</td>\n",
       "      <td>Adversary Infrastructure Interaction</td>\n",
       "      <td>AWS_VPC_Flow</td>\n",
       "      <td>prod_webserver</td>\n",
       "      <td>2024-04-26T01:40:00Z</td>\n",
       "      <td>waf_rule</td>\n",
       "      <td>600.0</td>\n",
       "      <td>8618.221667</td>\n",
       "      <td>Suspicious</td>\n",
       "    </tr>\n",
       "  </tbody>\n",
       "</table>\n",
       "</div>"
      ],
      "text/plain": [
       "     bytes_in  bytes_out             creation_time                  end_time  \\\n",
       "36    4190330     283456 2024-04-25 23:30:00+00:00 2024-04-25 23:40:00+00:00   \n",
       "87    1215594      64362 2024-04-26 00:30:00+00:00 2024-04-26 00:40:00+00:00   \n",
       "116   4827283     306181 2024-04-26 01:00:00+00:00 2024-04-26 01:10:00+00:00   \n",
       "132   1889834      34306 2024-04-26 01:20:00+00:00 2024-04-26 01:30:00+00:00   \n",
       "153   4869181     301752 2024-04-26 01:40:00+00:00 2024-04-26 01:50:00+00:00   \n",
       "\n",
       "             src_ip src_ip_country_code protocol  response.code  dst_port  \\\n",
       "36    155.91.45.242                  US    HTTPS            200       443   \n",
       "87   165.225.240.79                  NL    HTTPS            200       443   \n",
       "116   155.91.45.242                  US    HTTPS            200       443   \n",
       "132  165.225.240.79                  NL    HTTPS            200       443   \n",
       "153   155.91.45.242                  US    HTTPS            200       443   \n",
       "\n",
       "           dst_ip              rule_names  \\\n",
       "36   10.138.69.97  Suspicious Web Traffic   \n",
       "87   10.138.69.97  Suspicious Web Traffic   \n",
       "116  10.138.69.97  Suspicious Web Traffic   \n",
       "132  10.138.69.97  Suspicious Web Traffic   \n",
       "153  10.138.69.97  Suspicious Web Traffic   \n",
       "\n",
       "                         observation_name   source.meta     source.name  \\\n",
       "36   Adversary Infrastructure Interaction  AWS_VPC_Flow  prod_webserver   \n",
       "87   Adversary Infrastructure Interaction  AWS_VPC_Flow  prod_webserver   \n",
       "116  Adversary Infrastructure Interaction  AWS_VPC_Flow  prod_webserver   \n",
       "132  Adversary Infrastructure Interaction  AWS_VPC_Flow  prod_webserver   \n",
       "153  Adversary Infrastructure Interaction  AWS_VPC_Flow  prod_webserver   \n",
       "\n",
       "                     time detection_types  session_duration  avg_packet_size  \\\n",
       "36   2024-04-25T23:30:00Z        waf_rule             600.0      7456.310000   \n",
       "87   2024-04-26T00:30:00Z        waf_rule             600.0      2133.260000   \n",
       "116  2024-04-26T01:00:00Z        waf_rule             600.0      8555.773333   \n",
       "132  2024-04-26T01:20:00Z        waf_rule             600.0      3206.900000   \n",
       "153  2024-04-26T01:40:00Z        waf_rule             600.0      8618.221667   \n",
       "\n",
       "        anomaly  \n",
       "36   Suspicious  \n",
       "87   Suspicious  \n",
       "116  Suspicious  \n",
       "132  Suspicious  \n",
       "153  Suspicious  "
      ]
     },
     "metadata": {},
     "output_type": "display_data"
    }
   ],
   "source": [
    "#Check the proportion of anomalies detected\n",
    "print(df['anomaly'].value_counts())\n",
    "\n",
    "#Display anomaly samples\n",
    "suspicious_activities = df[df['anomaly'] == 'Suspicious']\n",
    "\n",
    "display(suspicious_activities.head())"
   ]
  },
  {
   "cell_type": "markdown",
   "id": "e1b233b6-0622-407f-83f8-1e8c200037ec",
   "metadata": {},
   "source": [
    "<h1 style=\"font-size:32px; color:Black;\">Step 8: Visualization of Anomalies</h1>\n"
   ]
  },
  {
   "cell_type": "code",
   "execution_count": 23,
   "id": "6dcd8f51-30af-485e-8fc0-46a95865ad76",
   "metadata": {},
   "outputs": [
    {
     "data": {
      "image/png": "[encoded data removed]",
      "text/plain": [
       "<Figure size 1000x600 with 1 Axes>"
      ]
     },
     "metadata": {},
     "output_type": "display_data"
    }
   ],
   "source": [
    "#visualize bytes_in vs bytes_out with anomalies highlighted\n",
    "plt.figure(figsize=(10,6))\n",
    "sns.scatterplot(x='bytes_in', y='bytes_out', hue = 'anomaly', data=df, palette = ['green', 'red'])\n",
    "plt.title('Anomalies in Bytes In vs Bytes Out')\n",
    "plt.show()\n"
   ]
  },
  {
   "cell_type": "markdown",
   "id": "71d6c8a3-2d66-4f47-be60-6da0670e135a",
   "metadata": {},
   "source": [
    "<h1 style=\"font-size:32px; color:Black;\">The Isolation Forest model identified suspicious web sessions based on bytes transferred and session behavior. Visuals confirmed the effectiveness of the model, and the project demonstrates how anomaly detection can enhance cybersecurity without needing labeled data.</h1>\n"
   ]
  }
 ],
 "metadata": {
  "kernelspec": {
   "display_name": "Python 3 (ipykernel)",
   "language": "python",
   "name": "python3"
  },
  "language_info": {
   "codemirror_mode": {
    "name": "ipython",
    "version": 3
   },
   "file_extension": ".py",
   "mimetype": "text/x-python",
   "name": "python",
   "nbconvert_exporter": "python",
   "pygments_lexer": "ipython3",
   "version": "3.12.7"
  }
 },
 "nbformat": 4,
 "nbformat_minor": 5
}
